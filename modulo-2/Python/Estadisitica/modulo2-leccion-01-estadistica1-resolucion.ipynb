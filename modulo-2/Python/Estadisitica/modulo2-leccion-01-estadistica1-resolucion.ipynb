{
 "cells": [
  {
   "cell_type": "markdown",
   "metadata": {},
   "source": [
    "**Ejercicio:** ¿Cual es el punto de ruptura de la varianza?\n",
    "Solución:  También sería 1/n ya que se usa la media en su calculo y esta cambiaría muchisimo con que solo cambie un valor\n",
    "\n",
    "**Ejercicio:** ¿Cuál de estos dos es un estadístico más robusto: desviación típica o moda?\n",
    "Solución:  La moda es un estadístico más robusto, ya que habría que cambiar mas datos para afectar a su valor. La desv. típica se ve afectada cambiando solo un valor"
   ]
  },
  {
   "cell_type": "markdown",
   "metadata": {},
   "source": [
    "#### EJERCICIO 1\n",
    "\n",
    "Crea un Numpy array con una fila de 50 datos aleatorios y calcula su media, mediana, moda, máximo y mínimo."
   ]
  },
  {
   "cell_type": "code",
   "execution_count": null,
   "metadata": {},
   "outputs": [],
   "source": [
    "import numpy as np\n",
    "from scipy import stats # importando scipy.stats\n",
    "\n",
    "# Creamos datos aleatorios\n",
    "datos = np.random.randn(50)\n",
    "\n",
    "media = np.mean(datos)\n",
    "moda, frecuencia = stats.mode(datos)\n",
    "maximo = np.max(datos)\n",
    "minimo = np.min(datos)"
   ]
  },
  {
   "cell_type": "markdown",
   "metadata": {},
   "source": [
    "#### EJERCICIO 2\n",
    "\n",
    "Sobre el ejercicio anterior, despues de calcular los estadísticos indicados, multiplica el primer elemento de los datos x 1000, calcula su valor absoluto y vuelve a calcular los estadísticos. ¿Qué sucede?\n",
    "\n",
    "Media cambiará mucho, moda no cambiara o poco."
   ]
  },
  {
   "cell_type": "code",
   "execution_count": null,
   "metadata": {},
   "outputs": [],
   "source": [
    "import numpy as np\n",
    "from scipy import stats # importando scipy.stats\n",
    "\n",
    "# Creamos datos aleatorios\n",
    "datos = np.random.randn(50)\n",
    "\n",
    "media = np.mean(datos)\n",
    "moda, frecuencia = stats.mode(datos)\n",
    "maximo = np.max(datos)\n",
    "minimo = np.min(datos)\n",
    "\n",
    "print(media, moda, maximo, minimo)\n",
    "\n",
    "datos[0] = np.abs(datos[0]*1000)\n",
    "\n",
    "media = np.mean(datos)\n",
    "moda, frecuencia = stats.mode(datos)\n",
    "maximo = np.max(datos)\n",
    "minimo = np.min(datos)\n",
    "\n",
    "print(media, moda, maximo, minimo)"
   ]
  },
  {
   "cell_type": "markdown",
   "metadata": {},
   "source": [
    "#### EJERCICIO 3\n",
    "\n",
    "Obtén los mismos estadísticos que en el Ejercicio 1 pero usando Pandas."
   ]
  },
  {
   "cell_type": "code",
   "execution_count": null,
   "metadata": {},
   "outputs": [],
   "source": [
    "import numpy as np # importando numpy\n",
    "import pandas as pd # importando pandas\n",
    "\n",
    "# Creamos datos aleatorios\n",
    "datos = np.random.randn(50)\n",
    "#Definimos un dataframe de pandas con los datos anteriores\n",
    "dataframe = pd.DataFrame(datos)\n",
    "# print(dataframe)\n",
    "# Resumen de estadisticos con pandas:\n",
    "print(dataframe.describe()) # describe muestra un resumen con los estadísticos más comunes para el dataframe \n",
    "print(dataframe.mean()) # media aritmética \n",
    "print(dataframe.min()) # mínimo\n",
    "print(dataframe.max()) # máximo\n",
    "print(dataframe.mode()) # moda"
   ]
  },
  {
   "cell_type": "markdown",
   "metadata": {},
   "source": [
    "#### EJERCICIO 4\n",
    "\n",
    "Dibuja el diagrama de cajas de una distribución de 100 datos aleatorios. Resalta los outliers (o valores atípicos). ¿Crees que hay muchos o pocos? ¿Por qué?"
   ]
  },
  {
   "cell_type": "code",
   "execution_count": null,
   "metadata": {},
   "outputs": [],
   "source": [
    "# Se usa matplotlib inline para tener graficos embebidos en el notebook.\n",
    "%matplotlib inline \n",
    "import matplotlib.pyplot as plt # importando matplotlib\n",
    "import numpy as np\n",
    "\n",
    "# Creamos datos aleatorios\n",
    "datos_graf = np.random.randn(100)\n",
    "\n",
    "# Creando el objeto figura con matplotlib\n",
    "fig = plt.figure(1, figsize=(9, 6))\n",
    "\n",
    "# Creando el subgrafico al que añadiremos el grafico de cajas\n",
    "ax = fig.add_subplot(111)\n",
    "\n",
    "# Creando el grafico de cajas\n",
    "bp = ax.boxplot(datos_graf)\n",
    "\n",
    "# Visualizar mas facilmente los datos atípicos\n",
    "# En 'fliers' se guardan aquellos datos que se encuentran más aislados de los demás (outliers)\n",
    "for flier in bp['fliers']:\n",
    "    flier.set(marker='o', color='red', alpha=0.5) # Los dibujamos con un marcador especial"
   ]
  },
  {
   "cell_type": "markdown",
   "metadata": {},
   "source": [
    "#### EJERCICIO 5\n",
    "\n",
    "Calcula la desviación respecto a la media del dato en la primera posición de un array de 100 datos aleatorios. ¿Puedes sacar alguna conclusón sobre el dato viendo este valor?"
   ]
  },
  {
   "cell_type": "code",
   "execution_count": null,
   "metadata": {},
   "outputs": [],
   "source": [
    "import numpy as np\n",
    "\n",
    "# Creamos unos datos de prueba aleatorios (matriz de 5x4)\n",
    "datos = np.random.randn(100)\n",
    "# media arítmetica de los datos \n",
    "media = np.mean(datos)\n",
    "#Calculamos la diferencia respecto a la media para cada elemento de la matriz\n",
    "desviacion_media = np.abs(datos[0]-media)\n",
    "print(media)\n",
    "print(desviacion_media)"
   ]
  },
  {
   "cell_type": "markdown",
   "metadata": {},
   "source": [
    "#### EJERCICIO 6\n",
    "\n",
    "Sobre el ejercicio anterior, calcula también la media de la desviación respecto a la media para todos los datos del array. ¿Ahora nos aporta algo más de información la desviación respecto a la media del primer elemento?"
   ]
  },
  {
   "cell_type": "code",
   "execution_count": null,
   "metadata": {},
   "outputs": [],
   "source": [
    "import numpy as np\n",
    "\n",
    "# Creamos unos datos de prueba aleatorios (matriz de 5x4)\n",
    "datos = np.random.randn(100)\n",
    "# media arítmetica de los datos \n",
    "media = np.mean(datos)\n",
    "#Calculamos la diferencia respecto a la media para cada elemento de la matriz\n",
    "desviacion_media = np.abs(datos[0]-media)\n",
    "media_desviacion_media = np.mean(np.abs(datos-media))\n",
    "print(media)\n",
    "print(desviacion_media)\n",
    "print(media_desviacion_media)"
   ]
  },
  {
   "cell_type": "markdown",
   "metadata": {},
   "source": [
    "#### EJERCICIO 7\n",
    "\n",
    "Calcula la desviación estándar, la varianza y el coeficiente de varianza de un array de 100 datos aleatorios. Luego modifica un dato multiplicándolo por 10 y vuelve a calcular los mismos estadísticos. ¿Qué sucede?"
   ]
  },
  {
   "cell_type": "code",
   "execution_count": null,
   "metadata": {},
   "outputs": [],
   "source": [
    "import numpy as np\n",
    "\n",
    "# Creamos unos datos de prueba aleatorios (matriz de 5x4)\n",
    "datos = np.random.randn(100)\n",
    "\n",
    "print(np.std(datos)) # desviación estándar para todos los datos\n",
    "print(np.var(datos)) # varianza para todos los datos\n",
    "print(np.std(datos) / np.abs(np.mean(datos))) # coeficiente de variación\n",
    "\n",
    "datos[0] = datos[0]*10\n",
    "\n",
    "print(np.std(datos)) # desviación estándar para todos los datos\n",
    "print(np.var(datos)) # varianza para todos los datos\n",
    "print(np.std(datos) / np.abs(np.mean(datos))) # coeficiente de variación"
   ]
  }
 ],
 "metadata": {
  "interpreter": {
   "hash": "363b8a3dd650dafe334525b95b2c8d881cd2bf9170bb08b45b51c2361a0bd89a"
  },
  "kernelspec": {
   "display_name": "Python 3.8.8 ('base')",
   "language": "python",
   "name": "python3"
  },
  "language_info": {
   "name": "python",
   "version": "3.8.8"
  },
  "orig_nbformat": 4
 },
 "nbformat": 4,
 "nbformat_minor": 2
}
