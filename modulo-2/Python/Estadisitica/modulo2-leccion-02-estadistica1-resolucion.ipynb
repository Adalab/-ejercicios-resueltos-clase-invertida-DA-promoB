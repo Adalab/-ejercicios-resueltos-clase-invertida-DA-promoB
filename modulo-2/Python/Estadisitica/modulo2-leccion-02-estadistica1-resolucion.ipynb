{
 "cells": [
  {
   "cell_type": "markdown",
   "metadata": {},
   "source": [
    "#### EJERCICIO 1\n",
    "\n",
    "Calcula el percentil 60 de un conjunto de datos aleatorios de 100 elementos. ¿Qué significa ese valor?"
   ]
  },
  {
   "cell_type": "code",
   "execution_count": null,
   "metadata": {},
   "outputs": [],
   "source": [
    "import numpy as np\n",
    "\n",
    "# Creamos unos datos de prueba aleatorios (matriz de 5x4)\n",
    "datos = np.random.randn(100)\n",
    "\n",
    "# En la función percentile, el parámetro q representa el número de cálculo del percentil. \n",
    "# a representa un array de datos, \n",
    "# los demás parámetros son opcionales, puedes consultarlos en la documentación de Numpy\n",
    "# np.percentile(a, q, axis=None, out=None, overwrite_input=False, interpolation='linear', keepdims=False)\n",
    "percentil60 = np.percentile(datos, 60, axis=None, out=None, overwrite_input=False, interpolation='linear', keepdims=False)\n",
    "print(\"El percentil 60 es:\", percentil60)"
   ]
  },
  {
   "cell_type": "markdown",
   "metadata": {},
   "source": [
    "**Ejercicio:** Obtén la tabla de frecuencias para la longitud de los pétalos. ¿Cómo están distribuidos los datos en comparación a las longitudes de los sépalos?"
   ]
  },
  {
   "cell_type": "code",
   "execution_count": null,
   "metadata": {},
   "outputs": [],
   "source": [
    "iris_petal = iris.groupby(\"petal_length\")\n",
    "iris_petal_lengths =  iris_petal.agg(frecuencia=(\"petal_length\", \"count\"))\n",
    "print(iris_petal_lengths)"
   ]
  },
  {
   "cell_type": "markdown",
   "metadata": {},
   "source": [
    "**Ejercicio:** Realiza el mismo tipo de agrupación en intervalos para el ejercicio anterior en el que calculabamos la tabla de frecuencias de la longitud de los pétalos. En este caso utilizan un número diferente para los bins, que creas que se ajuste bien a los datos."
   ]
  },
  {
   "cell_type": "code",
   "execution_count": null,
   "metadata": {},
   "outputs": [],
   "source": [
    "iris[\"petal_length_group\"] = pd.cut(iris[\"petal_length\"], bins=10)\n",
    "iris_petal = iris.groupby(\"petal_length_group\")\n",
    "iris_petal_lengths =  iris_petal.agg(frecuencia=(\"petal_length\", \"count\"))\n",
    "print(iris_petal_lengths)"
   ]
  },
  {
   "cell_type": "markdown",
   "metadata": {},
   "source": [
    "Adicionalmente a la agrupación en intervalos, podríamos hacer que estos se hagan para valores concretos de la variable *sepal_length* en vez de en valores aleatorios. Para eso, en el argumento *bins* del método *cut()* también podemos indicar los puntos en los que queremos hacer las divisiones:"
   ]
  },
  {
   "cell_type": "code",
   "execution_count": null,
   "metadata": {},
   "outputs": [],
   "source": [
    "import numpy as np\n",
    "\n",
    "# Usamos el método arange de numpy para crear un array con los valores para los bins\n",
    "bins = np.arange(4, 8+0.5, 0.5)\n",
    "# Le pasamos como argumento la lista de bins donde queremos hacer las divisiones\n",
    "iris[\"sepal_length_group\"] = pd.cut(iris[\"sepal_length\"], bins=bins)\n",
    "iris_sepal = iris.groupby(\"sepal_length_group\")\n",
    "iris_sepal_lengths =  iris_sepal.agg(frecuencia=(\"sepal_length\", \"count\"))\n",
    "print(iris_sepal_lengths)"
   ]
  },
  {
   "cell_type": "markdown",
   "metadata": {},
   "source": [
    "**Ejercicio:** De nuevo, adapta el código para calcular la tabla de frecuencias de las longitudes de los pétalos para que los bins de los intervalos dependan de los valores concretos de la variable."
   ]
  },
  {
   "cell_type": "code",
   "execution_count": null,
   "metadata": {},
   "outputs": [],
   "source": [
    "import numpy as np\n",
    "\n",
    "# Usamos el método arange de numpy para crear un array con los valores para los bins\n",
    "bins = np.arange(0.9, 7+0.5, 0.5)\n",
    "# Le pasamos como argumento la lista de bins donde queremos hacer las divisiones\n",
    "iris[\"petal_length_group\"] = pd.cut(iris[\"petal_length\"], bins=bins)\n",
    "iris_petal = iris.groupby(\"petal_length_group\")\n",
    "iris_petal_lengths =  iris_petal.agg(frecuencia=(\"petal_length\", \"count\"))\n",
    "print(iris_petal_lengths)"
   ]
  },
  {
   "cell_type": "markdown",
   "metadata": {},
   "source": [
    "**Ejercicio:** De nuevo, adapta el código para calcular la tabla de frecuencias de las longitudes de los pétalos para mostrar las frecuencias acumuladas."
   ]
  },
  {
   "cell_type": "code",
   "execution_count": null,
   "metadata": {},
   "outputs": [],
   "source": [
    "bins = np.arange(0.9, 7+0.5, 0.5)\n",
    "\n",
    "iris[\"petal_length_group\"] = pd.cut(iris[\"petal_length\"], bins=bins)\n",
    "\n",
    "iris[\"petal_length_group\"] = pd.cut(iris[\"petal_length\"], bins=bins)\n",
    "iris_petal = iris.groupby(\"petal_length_group\")\n",
    "iris_petal_lengths =  iris_petal.agg(frecuencia=(\"petal_length\", \"count\"))\n",
    "#Calculamos una nueva columna del DataFrame llamada frecuencia acumulada usando cumsum() sobre la frecuencia\n",
    "iris_petal_lengths[\"frecuencia_acumulada\"] = iris_petal_lengths[\"frecuencia\"].cumsum()\n",
    "#Visualizamos el dataframe resultado\n",
    "iris_petal_lengths"
   ]
  },
  {
   "cell_type": "markdown",
   "metadata": {},
   "source": [
    "**Ejercicio:** Escribe el código necesario para representar el histograma de las longitudes de los pétalos."
   ]
  },
  {
   "cell_type": "code",
   "execution_count": null,
   "metadata": {},
   "outputs": [],
   "source": [
    "iris_petal = iris.groupby(\"petal_length\")\n",
    "iris_petal_lengths =  iris_petal.agg(frecuencia=(\"petal_length\", \"count\"))\n",
    "\n",
    "iris_petal_lengths.plot.hist()"
   ]
  }
 ],
 "metadata": {
  "interpreter": {
   "hash": "363b8a3dd650dafe334525b95b2c8d881cd2bf9170bb08b45b51c2361a0bd89a"
  },
  "kernelspec": {
   "display_name": "Python 3.8.8 ('base')",
   "language": "python",
   "name": "python3"
  },
  "language_info": {
   "name": "python",
   "version": "3.8.8"
  },
  "orig_nbformat": 4
 },
 "nbformat": 4,
 "nbformat_minor": 2
}
